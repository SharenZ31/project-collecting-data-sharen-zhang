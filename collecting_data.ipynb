{
 "cells": [
  {
   "cell_type": "markdown",
   "metadata": {},
   "source": [
    "# Collecting Data\n",
    "\n",
    "The foundation of your project will be to collect appropriate data for the problem you are trying to solve. There is incredible versatility in how you can use an machine learning model. Some examples might be to predict the next social media trend, categorizing cancer cells, trying to better understand the relationship between temperature fluctuations and coffee bean growth rates, or creating a chat bot.\n",
    "\n",
    "Since we are very early in this course, and - most likely at this point - have not discussed many models, it may be difficult to know what you can do with a dataset, or what is in scope of this course. So by the nature of the course title \"Exploring Machine Learning\" we will take an explorative approach to your project. \n",
    "\n",
    "The goal of this part of the project is to explore what data sets you might be interested in, below will be questions to help guide you to selecting a category of data that you want to further explore."
   ]
  },
  {
   "cell_type": "markdown",
   "metadata": {},
   "source": [
    "## Identifying what data you want to explore\n",
    "\n",
    "Data is everywhere and there seems to be data on about anything. You might know exactly what you want to dive deeper into or you might have no idea. Either way I invite you answer the questions below.\n",
    "\n",
    "Below create a python dictionary with the key being a short summary of the topic of interest, while the value is an explanation of your interest - such as why you are interested in this topic, or why do you feel a strong passion to understand this topic. A topic of interest could be research you are conducting, a topic you are studying at your job, hobbies you have or topics surrounding your identities.\n",
    "\n",
    "List 5 topics, and for each topic put at least a 50 word description.\n",
    "\n",
    "For example I might put:\n",
    "\n",
    "```python\n",
    "interests = {\n",
    "    \"Cats\" : \"I have two cats at home, they are basically my children. I would generally like to learn more about cat behavior, health trends and pet owner behavior. It may be interesting to also see industry trends of cat owner, or how they compare to dog owners. Maybe later I want to start to write an app that recognizes cat breeds\",\n",
    "\n",
    "    \"Scuba\" : \"The study of scuba diving seems to be a 'soft' science, and there are general guidelines on when and how long you should do safety stops to avoid getting decompression sickness. Could there be links to human anatomy or behavior on how deep a person should go safely during a dive?\",\n",
    "}\n",
    "```"
   ]
  },
  {
   "cell_type": "code",
   "execution_count": null,
   "metadata": {},
   "outputs": [],
   "source": [
    "# Do not edit the name of this function, it will be used for grading\n",
    "def what_are_topics_you_are_interested_in():\n",
    "    interests = {\n",
    "        \"Chocolate Consumption in US\" : \"I'm a big fan of chocolate, wheather is a chocolate ice cream or hot coco. I would like to learn more about the trends and factors influencing chocolate consumption in the U.S., from consumer preferences to seasonal fluctuations in demand. This could include exploring the impact of health trends, marketing strategies, and sustainability concerns on the chocolate industry. It would also be fascinating to analyze data related to regional differences in consumption and the influence of major holidays such as Halloween and Christmas on sales trends\",\n",
    "\n",
    "        \"Pet Health\" : \"My roomate has 20 cats at her house (not kidding), and she often complains to me about the challenges of taking them to the vet for vaccinations or checkups. This has sparked my curiosity about the broader topic of pet health and wellness. I'm interested in exploring the data surrounding veterinary care trends, the cost of pet healthcare, and how advancements in pet medicine are improving the quality of life for animals.\",\n",
    "\n",
    "        \"AI/ML in Supply Chain\" : \"Artificial Intelligence and Machine Learning are revolutionizing supply chain management by automating processes, enhancing decision-making, and optimizing operations. I'm interested in exploring how AI can improve demand forecasting, inventory management, and logistics through predictive analytics and real-time data processing. The potential of these technologies to reduce costs, improve accuracy, and create resilient supply chains fascinates me, especially as the industry shifts towards greater digitalization.\",\n",
    "        \n",
    "        \"Sustainability in Supply Chain\" : \"As sustainability becomes increasingly critical on a global scale, I'm particularly interested in how supply chains can be optimized to minimize their environmental impact. The integration of sustainable practices in supply chains is essential for businesses striving to meet both regulatory requirements and consumer demands for eco-friendly products. I'd like to learn more about topics like green logistics, carbon footprint reduction, and circular supply chains, understanding the role of data in driving more sustainable operations.\",\n",
    "\n",
    "        \"Predictive Analytics in Business\" : \"Prediction and forecasting are crucial for any corporation. Businesses rely on predictive models to mitigate risks, respond to emerging trends, and remain agile. I'm particularly interested in how companies use predictive analytics to forecast market trends, customer behavior, and inventory needs. The ability to predict future outcomes using historical data fascinates me, especially in its application to supply chain management decision-making.\",\n",
    "        \n",
    "        \"Data Science\" : \"As a student who are taking data science as a minor, I'm fascinated by how data transforms into actionable insights. Data science enables businesses to solve complex problems, make data-driven decisions, and innovate in customer experience, product development, and operations. The rapid evolution of tools and technologies in this field makes it an exciting area for ongoing learning and growth.\"\n",
    "    } # Fill out your interests\n",
    "    return interests\n",
    "# Note: you can use the \\ symbol to continue your string to the next line, this makes \n",
    "# things look a bit prettier\n",
    "# Example:\n",
    "print(\"This is an \\\n",
    "      extended string \")"
   ]
  },
  {
   "cell_type": "markdown",
   "metadata": {},
   "source": [
    "## Do datasets exist for my interests?\n",
    "\n",
    "There is lots of data out there but not for everything. Below are some websites where you can take a look at available datasets. Go ahead and search for datasets related to your topic. Are there many data sets surrounding your topic? Are there many different types of data like categorical, regression, images, etc? If there are limited data sets, do you feel comfortable with the challenge of creating your own data? (Note creating your own data set to supplement existing datasets will increase your score on this assignment)\n",
    "\n",
    "> You can find a link to databases on the course page!\n",
    "\n",
    "For 3 of your topics find 3 databases you might want to use for your project. Below create a dictionary with the keys being the topic values you listed above and the value a link of 3 data bases you would like to explore. If you would like to make your own data too make add a string \"Create my own data\" to the end of the list\n",
    "\n",
    "Note, if you have trouble finding datasets for your topic you can make your dataset more general, or try a different topic. For example for my \"Cats\" topic I could expand it to \"Pets\", \"Pet Toy Sales\" or \"Pet Health Benefits\"\n",
    "\n",
    "You can always change your topic and dataset later, so don't feel that these decisions are permanent.\n",
    "\n",
    "While searching did it generate any ideas on interests or data sets you would like to explore? - If so you can add or replace a topic to the dictionary above!\n",
    "\n",
    "\n",
    "Example\"\n",
    "\n",
    "```python\n",
    "datasets = {\n",
    "    \"Cats\" : [\"https://www.kaggle.com/datasets/ma7555/cat-breeds-dataset\", \"https://example.com\", \"https://example.com\", \"Create my own data\"],\n",
    "\n",
    "    \"Second Topic\": [\"https://example.com\", \"https://example.com\", \"https://example.com\"],\n",
    "    \n",
    "    \"Third Topic\" : [\"https://example.com\", \"https://example.com\", \"https://example.com\"]\n",
    "}\n",
    "```\n"
   ]
  },
  {
   "cell_type": "code",
   "execution_count": 3,
   "metadata": {},
   "outputs": [],
   "source": [
    "def find_some_datasets():\n",
    "      datasets = {\n",
    "         \"Chocolate Consumption in US\" : [\"https://www.statista.com/statistics/1400460/reach-of-consumption-or-penetration-of-chocolate-brands-by-consumers-eating-them-in-the-united-states/\" ,\\\n",
    "                                   \"https://www.statista.com/forecasts/1236087/per-capita-consumption-of-chocolate-in-united-states\" ,\\\n",
    "                                   \"https://www.ibisworld.com/united-states/market-research-reports/chocolate-production-industry/\"],\n",
    "        \n",
    "        \"Pet Health\" : [\"https://www.verifiedmarketresearch.com/product/companion-animal-health-market/\" ,\\\n",
    "                        \"https://www.technavio.com/report/companion-animal-healthcare-market-industry-analysis\" ,\\\n",
    "                         \"https://www.verifiedmarketresearch.com/product/u-s-companion-animal-health-market/\"],\n",
    "\n",
    "        \"AI/ML in Supply Chain\" : [\"https://www.statista.com/statistics/1449166/impact-of-ai-ml-on-supply-chains-in-business/\" ,\\\n",
    "                                             \"https://dataintelo.com/report/global-artificial-intelligence-ai-in-supply-chain-and-logistics-market\" ,\\\n",
    "                                                \"https://www.databridgemarketresearch.com/reports/global-artificial-intelligence-in-supply-chain-market\"],\n",
    "    \n",
    "        \"Sustainability in Supply Chain\" : [\"https://www.statista.com/statistics/1225574/changes-in-plans-to-implement-environmentally-sustainable-practices/\" ,\\\n",
    "                                            \"https://growthmarketreports.com/report/sustainable-supply-chain-finance-market-global-industry-analysis\" ,\\\n",
    "                                            \"https://www.omicsdi.org/dataset/biostudies-literature/S-EPMC7521552\"],\n",
    "\n",
    "        \"Predictive Analytics in Business\" : [\"https://dataintelo.com/report/predictive-analytics-in-banking-market\" ,\\\n",
    "              \"https://dataintelo.com/report/predictive-analytics-software-market\" ,\\\n",
    "              \"https://www.skyquestt.com/report/predictive-analytics-market/market-news\"  ],\n",
    "        \n",
    "        \"Data Science\" : [\"https://data.world/technology/kaggle-machine-learning-data-science-survey\" ,\\\n",
    "                          \"https://dataintelo.com/report/data-science-platform-market\" ,\\\n",
    "                          \"https://dataintelo.com/report/data-science-and-machine-learning-platforms-market-report\" ]\n",
    "    }\n",
    "      return datasets"
   ]
  },
  {
   "cell_type": "markdown",
   "metadata": {},
   "source": [
    "## Asking questions about your dataset\n",
    "\n",
    "Some questions you might want to ask for each dataset are:\n",
    "- Who created this dataset?\n",
    "- When was this dataset created?\n",
    "- Could there be any biases when creating this dataset?\n",
    "- How was this data collected?\n",
    "- Is this data representative of the problem I am trying to solve?\n"
   ]
  }
 ],
 "metadata": {
  "kernelspec": {
   "display_name": "Python 3",
   "language": "python",
   "name": "python3"
  },
  "language_info": {
   "codemirror_mode": {
    "name": "ipython",
    "version": 3
   },
   "file_extension": ".py",
   "mimetype": "text/x-python",
   "name": "python",
   "nbconvert_exporter": "python",
   "pygments_lexer": "ipython3",
   "version": "3.11.5"
  }
 },
 "nbformat": 4,
 "nbformat_minor": 2
}
